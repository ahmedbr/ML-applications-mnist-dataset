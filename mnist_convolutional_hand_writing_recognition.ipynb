{
 "cells": [
  {
   "cell_type": "code",
   "execution_count": 1,
   "metadata": {},
   "outputs": [
    {
     "name": "stdout",
     "output_type": "stream",
     "text": [
      "WARNING:tensorflow:From c:\\users\\asus\\appdata\\local\\programs\\python\\python36\\lib\\site-packages\\tensorflow\\python\\ops\\resource_variable_ops.py:435: colocate_with (from tensorflow.python.framework.ops) is deprecated and will be removed in a future version.\n",
      "Instructions for updating:\n",
      "Colocations handled automatically by placer.\n",
      "Epoch 1/10\n",
      "60000/60000 [==============================] - 43s 712us/sample - loss: 0.1570 - acc: 0.9538\n",
      "Epoch 2/10\n",
      "60000/60000 [==============================] - 43s 712us/sample - loss: 0.0520 - acc: 0.9845\n",
      "Epoch 3/10\n",
      "60000/60000 [==============================] - 43s 722us/sample - loss: 0.0332 - acc: 0.9897\n",
      "Epoch 4/10\n",
      "60000/60000 [==============================] - 43s 721us/sample - loss: 0.0228 - acc: 0.9927 - loss: 0.\n",
      "Epoch 5/10\n",
      "60000/60000 [==============================] - 43s 715us/sample - loss: 0.0156 - acc: 0.9948 - loss: 0.0156 - acc: \n",
      "Epoch 6/10\n",
      "60000/60000 [==============================] - 43s 710us/sample - loss: 0.0106 - acc: 0.9966\n",
      "Epoch 7/10\n",
      "60000/60000 [==============================] - 44s 726us/sample - loss: 0.0090 - acc: 0.9969\n",
      "Epoch 8/10\n",
      "59936/60000 [============================>.] - ETA: 0s - loss: 0.0057 - acc: 0.9981\n",
      "Readched %99.8 accuracy so cancelling training!\n",
      "60000/60000 [==============================] - 44s 737us/sample - loss: 0.0057 - acc: 0.9981\n"
     ]
    },
    {
     "data": {
      "text/plain": [
       "<tensorflow.python.keras.callbacks.History at 0x232bcd64860>"
      ]
     },
     "execution_count": 1,
     "metadata": {},
     "output_type": "execute_result"
    }
   ],
   "source": [
    "import tensorflow as tf\n",
    "\n",
    "class myCallback (tf.keras.callbacks.Callback):\n",
    "  def on_epoch_end(self,epoch,logs={}):\n",
    "    if(logs.get('acc')>0.998):\n",
    "      print('\\nReadched %99.8 accuracy so cancelling training!')\n",
    "      self.model.stop_training=True\n",
    "\n",
    "callbacks = myCallback()\n",
    "mnist=tf.keras.datasets.mnist\n",
    "\n",
    "mnist = tf.keras.datasets.mnist\n",
    "(training_images, training_labels), (test_images, test_labels) = mnist.load_data()\n",
    "\n",
    "training_images = training_images.reshape(60000, 28, 28, 1)\n",
    "training_images = training_images/255.0\n",
    "\n",
    "test_images = test_images.reshape(10000, 28, 28, 1)\n",
    "test_iamges = test_images/255.0\n",
    "\n",
    "model = tf.keras.models.Sequential([\n",
    "    \n",
    "    tf.keras.layers.Conv2D(32, (3,3), activation='relu', input_shape=(28, 28, 1)),\n",
    "    tf.keras.layers.MaxPooling2D(2,2),\n",
    "    tf.keras.layers.Flatten(),\n",
    "    tf.keras.layers.Dense(128, activation='relu'),\n",
    "    tf.keras.layers.Dense(10, activation='softmax')\n",
    "\n",
    "])\n",
    "\n",
    "model.compile(optimizer='adam', loss='sparse_categorical_crossentropy', metrics=['accuracy'])\n",
    "model.fit(training_images, training_labels, epochs=10, callbacks=[callbacks])\n"
   ]
  },
  {
   "cell_type": "code",
   "execution_count": null,
   "metadata": {},
   "outputs": [],
   "source": []
  }
 ],
 "metadata": {
  "kernelspec": {
   "display_name": "Python 3",
   "language": "python",
   "name": "python3"
  },
  "language_info": {
   "codemirror_mode": {
    "name": "ipython",
    "version": 3
   },
   "file_extension": ".py",
   "mimetype": "text/x-python",
   "name": "python",
   "nbconvert_exporter": "python",
   "pygments_lexer": "ipython3",
   "version": "3.6.6"
  }
 },
 "nbformat": 4,
 "nbformat_minor": 2
}
